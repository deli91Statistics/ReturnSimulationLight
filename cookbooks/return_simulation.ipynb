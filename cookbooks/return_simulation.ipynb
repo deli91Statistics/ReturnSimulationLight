{
 "cells": [
  {
   "cell_type": "code",
   "execution_count": 1,
   "metadata": {},
   "outputs": [],
   "source": [
    "import os\n",
    "os.getcwd()\n",
    "os.chdir('c:\\\\Users\\\\DM\\\\Desktop\\\\Research\\\\FMSIMPY2.0')\n",
    "\n",
    "import pandas as pd\n",
    "import numpy as np\n",
    "import matplotlib.pyplot as plt\n",
    "\n",
    "from functions.prices_returns import calculate_returns\n",
    "\n",
    "from src.utilities import estimate_variance_models, get_predicted_variance, get_standardized_residuals, convert_to_uniform_ecdf, get_optimal_parameters\n",
    "\n",
    "from functions.distributions import Gaussian, TStudent\n",
    "from src.stochastic_volatility import GARCH, GJRGARCH\n",
    "from src.dcc import DCC\n",
    "from src.copula import CopulaTStudent"
   ]
  },
  {
   "cell_type": "code",
   "execution_count": 2,
   "metadata": {},
   "outputs": [],
   "source": [
    "# -------------------------------------\n",
    "# Setup Data\n",
    "# -------------------------------------\n",
    "\n",
    "market_indices = pd.read_csv('data/market_indices.csv', \n",
    "                             parse_dates=['Date'], \n",
    "                             index_col='Date')\n",
    "\n",
    "market_indices = market_indices.loc[:,['DJI', 'GDAX', 'IXIC']]\n",
    "\n",
    "market_returns_net = calculate_returns(market_indices, 'D', log_returns=False)"
   ]
  },
  {
   "cell_type": "markdown",
   "metadata": {},
   "source": [
    "---"
   ]
  },
  {
   "cell_type": "markdown",
   "metadata": {},
   "source": [
    "## Estimation"
   ]
  },
  {
   "cell_type": "markdown",
   "metadata": {},
   "source": [
    "##### Calibration"
   ]
  },
  {
   "cell_type": "code",
   "execution_count": 3,
   "metadata": {},
   "outputs": [],
   "source": [
    "# Univariate Variance Process\n",
    "var_process = GARCH\n",
    "error_dist_univariate = TStudent()\n",
    "# DCC Parameters\n",
    "likelihood_dist_dcc = Gaussian()"
   ]
  },
  {
   "cell_type": "markdown",
   "metadata": {},
   "source": [
    "##### Estimate Variance model\n",
    "Obtain model parameters for each univariate variance model"
   ]
  },
  {
   "cell_type": "code",
   "execution_count": 4,
   "metadata": {},
   "outputs": [
    {
     "name": "stdout",
     "output_type": "stream",
     "text": [
      "[2.70872452e-06 1.24827586e-01 8.55172414e-01 5.00000000e+00]\n",
      "[4.24393854e-06 9.73103448e-02 8.82689655e-01 5.00000000e+00]\n",
      "[4.99123062e-06 1.11068966e-01 8.68931034e-01 5.00000000e+00]\n"
     ]
    },
    {
     "data": {
      "text/html": [
       "<div>\n",
       "<style scoped>\n",
       "    .dataframe tbody tr th:only-of-type {\n",
       "        vertical-align: middle;\n",
       "    }\n",
       "\n",
       "    .dataframe tbody tr th {\n",
       "        vertical-align: top;\n",
       "    }\n",
       "\n",
       "    .dataframe thead th {\n",
       "        text-align: right;\n",
       "    }\n",
       "</style>\n",
       "<table border=\"1\" class=\"dataframe\">\n",
       "  <thead>\n",
       "    <tr style=\"text-align: right;\">\n",
       "      <th></th>\n",
       "      <th>0</th>\n",
       "      <th>1</th>\n",
       "      <th>2</th>\n",
       "      <th>3</th>\n",
       "    </tr>\n",
       "  </thead>\n",
       "  <tbody>\n",
       "    <tr>\n",
       "      <th>DJI</th>\n",
       "      <td>0.000003</td>\n",
       "      <td>0.124828</td>\n",
       "      <td>0.855172</td>\n",
       "      <td>5.0</td>\n",
       "    </tr>\n",
       "    <tr>\n",
       "      <th>GDAX</th>\n",
       "      <td>0.000004</td>\n",
       "      <td>0.097310</td>\n",
       "      <td>0.882690</td>\n",
       "      <td>5.0</td>\n",
       "    </tr>\n",
       "    <tr>\n",
       "      <th>IXIC</th>\n",
       "      <td>0.000005</td>\n",
       "      <td>0.111069</td>\n",
       "      <td>0.868931</td>\n",
       "      <td>5.0</td>\n",
       "    </tr>\n",
       "  </tbody>\n",
       "</table>\n",
       "</div>"
      ],
      "text/plain": [
       "             0         1         2    3\n",
       "DJI   0.000003  0.124828  0.855172  5.0\n",
       "GDAX  0.000004  0.097310  0.882690  5.0\n",
       "IXIC  0.000005  0.111069  0.868931  5.0"
      ]
     },
     "execution_count": 4,
     "metadata": {},
     "output_type": "execute_result"
    }
   ],
   "source": [
    "var_mod = estimate_variance_models(market_returns_net,\n",
    "                                   VarianceProcess=var_process,\n",
    "                                   ErrorDistribution=error_dist_univariate)\n",
    "\n",
    "pred_var = get_predicted_variance(var_mod)\n",
    "pred_vol = np.sqrt(pred_var)\n",
    "std_resid = get_standardized_residuals(var_mod)\n",
    "\n",
    "OPT_PARAM_VAR = get_optimal_parameters(var_mod)\n",
    "\n",
    "OPT_PARAM_VAR"
   ]
  },
  {
   "cell_type": "markdown",
   "metadata": {},
   "source": [
    "##### Estimate DCC Model\n",
    "Obtain model parameters for conditional correlation"
   ]
  },
  {
   "cell_type": "code",
   "execution_count": 5,
   "metadata": {},
   "outputs": [],
   "source": [
    "DCC_model = DCC(data = std_resid, ErrorDistribution = likelihood_dist_dcc)\n",
    "DCC_model.fit()\n",
    "\n",
    "OPT_PARAM_DCC = DCC_model.opt_param\n",
    "\n",
    "cross_filtered_resid = DCC_model._std_cross_corr_filtered_resid(market_returns_net, pred_var)\n"
   ]
  },
  {
   "cell_type": "markdown",
   "metadata": {},
   "source": [
    "##### Estimate Copula Model\n",
    "Obtain model parameters for tail thickness"
   ]
  },
  {
   "cell_type": "code",
   "execution_count": 6,
   "metadata": {},
   "outputs": [],
   "source": [
    "pred_corr = DCC_model.pred_correlation\n",
    "\n",
    "unif_resid = convert_to_uniform_ecdf(cross_filtered_resid)"
   ]
  },
  {
   "cell_type": "code",
   "execution_count": 7,
   "metadata": {},
   "outputs": [],
   "source": [
    "\n",
    "\n",
    "CopulaModel = CopulaTStudent(unif_data=unif_resid)\n",
    "\n",
    "OPT_PARAM_COP = CopulaModel._fit_nu(static_R=pred_corr[-1])\n"
   ]
  },
  {
   "cell_type": "markdown",
   "metadata": {},
   "source": [
    "---"
   ]
  },
  {
   "cell_type": "markdown",
   "metadata": {},
   "source": [
    "## Optimal Parameters"
   ]
  },
  {
   "cell_type": "code",
   "execution_count": 8,
   "metadata": {},
   "outputs": [
    {
     "name": "stdout",
     "output_type": "stream",
     "text": [
      "Univariate Variance Model Parameters\n",
      "             0         1         2    3\n",
      "DJI   0.000003  0.124828  0.855172  5.0\n",
      "GDAX  0.000004  0.097310  0.882690  5.0\n",
      "IXIC  0.000005  0.111069  0.868931  5.0\n",
      "\n",
      "Error Distribution: T-Student\n",
      "\n",
      "================================================\n",
      "\n",
      "Dynamical Conditional Correlation Parameters\n",
      "[0.0264807  0.96809774]\n",
      "\n",
      "Last Correlation Entry\n",
      "[[1.         0.42178874 0.81091979]\n",
      " [0.42178874 1.         0.44453008]\n",
      " [0.81091979 0.44453008 1.        ]]\n",
      "\n",
      "Likelihood Distribution: Gaussian\n",
      "\n",
      "================================================\n",
      "\n",
      "Heavy Tail Coefficient\n",
      "[3.76921676]\n",
      "\n"
     ]
    }
   ],
   "source": [
    "print('Univariate Variance Model Parameters')\n",
    "print(OPT_PARAM_VAR)\n",
    "print('')\n",
    "print(f'Error Distribution: {error_dist_univariate._name}')\n",
    "print('')\n",
    "\n",
    "print('================================================')\n",
    "\n",
    "print('')\n",
    "print('Dynamical Conditional Correlation Parameters')\n",
    "print(OPT_PARAM_DCC)\n",
    "print('')\n",
    "\n",
    "print('Last Correlation Entry')\n",
    "print(DCC_model.pred_correlation[-1])\n",
    "print('')\n",
    "\n",
    "print(f'Likelihood Distribution: {likelihood_dist_dcc._name}')\n",
    "print('')\n",
    "\n",
    "print('================================================')\n",
    "\n",
    "print('')\n",
    "print('Heavy Tail Coefficient')\n",
    "print(OPT_PARAM_COP)\n",
    "print('')"
   ]
  },
  {
   "cell_type": "markdown",
   "metadata": {},
   "source": [
    "---"
   ]
  },
  {
   "cell_type": "markdown",
   "metadata": {},
   "source": [
    "### Simulation"
   ]
  },
  {
   "cell_type": "markdown",
   "metadata": {},
   "source": [
    "##### Calibration"
   ]
  },
  {
   "cell_type": "code",
   "execution_count": 9,
   "metadata": {},
   "outputs": [],
   "source": [
    "from scipy.stats import t\n",
    "\n",
    "# Set Copula Parameters\n",
    "cop_df = 4\n",
    "cop_sample_size = 1000\n",
    "df_lst = [25, 25, 25]       # ideally obtained from univariate model estimations\n",
    "\n",
    "dcc_param = [0.02476629, 0.97020823]\n",
    "dcc_init_R = DCC_model.pred_correlation[-1]"
   ]
  },
  {
   "cell_type": "markdown",
   "metadata": {},
   "source": [
    "##### Heavy tailed Innovations with copulas\n",
    "\n",
    "Simulate white noise variates with heavy tails using copulas. This introduces the heavy tail or asymetric structure. Transform uniform residuals to marginals with specific distribution determined by the error distribution of the univariate variance models."
   ]
  },
  {
   "cell_type": "code",
   "execution_count": 10,
   "metadata": {},
   "outputs": [],
   "source": [
    "sim_unif_resid_copula = CopulaModel.simulate_t_copula(shape = np.diag(np.ones(3)),\n",
    "                                                      df = cop_df, \n",
    "                                                      sample_size=cop_sample_size)\n",
    "\n",
    "sim_marg_resid_copula = np.column_stack([t.ppf(sim_unif_resid_copula[:,col], df=df) for col, df in enumerate(df_lst)])\n",
    "sim_marg_resid_copula = pd.DataFrame(sim_marg_resid_copula, columns = market_returns_net.columns)"
   ]
  },
  {
   "cell_type": "markdown",
   "metadata": {},
   "source": [
    "Simulate conditional variance using simulated copula marginals as innovation variates."
   ]
  },
  {
   "cell_type": "code",
   "execution_count": 11,
   "metadata": {},
   "outputs": [],
   "source": [
    "sim_cond_var = {}\n",
    "sim_ret = {}\n",
    "\n",
    "for ticker in market_returns_net.columns:\n",
    "    r , v = var_mod[ticker].simulate(innovations = sim_marg_resid_copula.loc[:,ticker])         # maybe reprogramm simulate to static method in stochastic volatility module\n",
    "    sim_cond_var[ticker] = v\n",
    "    sim_ret[ticker] = r\n",
    "\n",
    "sim_cond_var = pd.DataFrame(sim_cond_var)\n",
    "sim_ret = pd.DataFrame(sim_ret)\n",
    "sim_std_resid = sim_ret/np.sqrt(sim_cond_var)"
   ]
  },
  {
   "cell_type": "markdown",
   "metadata": {},
   "source": [
    "Introduce dependence structure with dcc recursion and retrieve conditional variance matrix."
   ]
  },
  {
   "cell_type": "code",
   "execution_count": 12,
   "metadata": {},
   "outputs": [],
   "source": [
    "sim_R_t = DCC_model.simulate(lambda_1 = dcc_param[0], lambda_2 = dcc_param[1],\n",
    "                             std_residuals=sim_std_resid, dcc_init_R=dcc_init_R)\n",
    "\n",
    "sim_D_t = np.array([np.diag(vols) for vols in np.array(np.sqrt(sim_cond_var))])\n",
    "sim_H_t = [D @ R @ D for D, R in zip(sim_D_t, sim_R_t)]\n",
    "sim_H_t_cholesky = np.linalg.cholesky(sim_H_t)"
   ]
  },
  {
   "cell_type": "markdown",
   "metadata": {},
   "source": [
    "Generate simulated Returns"
   ]
  },
  {
   "cell_type": "code",
   "execution_count": 13,
   "metadata": {},
   "outputs": [],
   "source": [
    "log_returns_sim = np.squeeze([H @ nu for H, nu in zip(sim_H_t_cholesky, sim_marg_resid_copula.values)])"
   ]
  },
  {
   "cell_type": "code",
   "execution_count": 14,
   "metadata": {},
   "outputs": [
    {
     "data": {
      "image/png": "[encoded data removed]",
      "text/plain": [
       "<Figure size 640x480 with 1 Axes>"
      ]
     },
     "metadata": {},
     "output_type": "display_data"
    }
   ],
   "source": [
    "plt.plot(log_returns_sim);"
   ]
  }
 ],
 "metadata": {
  "kernelspec": {
   "display_name": ".venv",
   "language": "python",
   "name": "python3"
  },
  "language_info": {
   "codemirror_mode": {
    "name": "ipython",
    "version": 3
   },
   "file_extension": ".py",
   "mimetype": "text/x-python",
   "name": "python",
   "nbconvert_exporter": "python",
   "pygments_lexer": "ipython3",
   "version": "3.10.5"
  },
  "orig_nbformat": 4
 },
 "nbformat": 4,
 "nbformat_minor": 2
}
